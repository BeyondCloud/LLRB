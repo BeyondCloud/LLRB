{
 "cells": [
  {
   "cell_type": "code",
   "execution_count": null,
   "metadata": {},
   "outputs": [],
   "source": [
    "Node put(Node h, Key key, Value val){\n",
    "    if (h == null) return new Node(key, val, RED); //new node @ bottom, color it red\n",
    "    int cmp = key.compareTo(h.key);\n",
    "    if      (cmp  < 0) h.left  = put(h.left,  key, val);\n",
    "    else if (cmp  > 0) h.right = put(h.right, key, val);\n",
    "    else if (cmp == 0) h.val = val;\n",
    "    //\n",
    "    // 3 lines below maintain the LLRB black balance\n",
    "    //\n",
    "    if (isRed(h.right) && !isRed(h.left))     h = rotateLeft(h);  // lean left\n",
    "    if (isRed(h.left)  && isRed(h.left.left)) h = rotateRight(h); // balance 4-node\n",
    "    if (isRed(h.left)  && isRed(h.right))     flipColors(h);      // split 4-node\n",
    "   \n",
    "    return h;\n",
    "}\n"
   ]
  },
  {
   "cell_type": "code",
   "execution_count": 164,
   "metadata": {
    "scrolled": true
   },
   "outputs": [
    {
     "name": "stdout",
     "output_type": "stream",
     "text": [
      "Warning: key  100  not found, return None\n"
     ]
    }
   ],
   "source": [
    "\n",
    "\n",
    "class Node(object):\n",
    "    RED = True\n",
    "    BLACK = False\n",
    "    def __init__(self, k,v,c=RED,L=None,R=None):\n",
    "        self.key = k\n",
    "        self.val = v\n",
    "        self.clr = c\n",
    "        self.L = L\n",
    "        self.R = R\n",
    "        \n",
    "\n",
    "class LLRB(object):\n",
    "\n",
    "    def __init__(self,h=None):\n",
    "        self.root = h\n",
    "    def put(self,key,val):\n",
    "        self.root = self._put(self.root,key,val)\n",
    "    def delete(self,key):\n",
    "        self.root = self._delete(self.root,key)\n",
    "    \n",
    "    def is_red(self,h):\n",
    "        return h.clr if h else False\n",
    "    def is_black(self,h):\n",
    "        return not self.is_red(h)\n",
    "    \n",
    "\n",
    "    def rotateL(self,h):     \n",
    "        \"\"\"\n",
    "               V         |          V <--left or right, red or black\n",
    "               |         |          |\n",
    "        out<--(x)   <<< LEFT       (h) <--in\n",
    "             // \\        |         / \\\\  <--red\n",
    "           (h)   3       |        1   (x)\n",
    "           / \\           |            / \\\n",
    "          1   2          |           2   3\n",
    "        \"\"\"\n",
    "        x         = h.R\n",
    "        h.R       = x.L\n",
    "        x.L       = h\n",
    "        x.clr     = h.clr\n",
    "        h.clr     = RED\n",
    "        return x\n",
    "    def rotateR(self,h):\n",
    "            x     = h.L\n",
    "            h.L   = x.R\n",
    "            x.R   = h\n",
    "            x.clr = h.clr\n",
    "            h.clr = RED\n",
    "            return x\n",
    "    def flip_colors(self,h):\n",
    "        h.clr = not h.clr\n",
    "        h.L.clr = not h.L.clr\n",
    "        h.R.clr = not h.R.clr\n",
    "    def _fix_up(self,h):\n",
    "        if self.is_red(h.R) and not self.is_red(h.L):\n",
    "            h = self.rotateL(h)\n",
    "        if self.is_red(h.L)  and self.is_red(h.L.L):\n",
    "            h = self.rotateR(h)\n",
    "        if self.is_red(h.L) and self.is_red(h.R):\n",
    "            self.flip_colors(h)\n",
    "        return h\n",
    "    def _put(self,h,key,val):\n",
    "        if h == None:\n",
    "            return Node(key,val)\n",
    "        if (key<h.key): \n",
    "            h.L  = self._put(h.L, key, val);\n",
    "        elif (key>h.key): \n",
    "            h.R  = self._put(h.R, key, val);\n",
    "        else:\n",
    "            h.val = val\n",
    "        return self._fix_up(h)\n",
    "    def _move_red_left(self,h):\n",
    "        \"\"\"\n",
    "        Assuming that self is red and both self.left and self.left.left\n",
    "        are black, make self.left or one of its children red.\n",
    "        \"\"\"\n",
    "        self.flip_colors(h)\n",
    "        if h.R and self.is_red(h.R.L):\n",
    "            h.R = self.R.rotateR(h)\n",
    "            h = self.rotateL(h)\n",
    "            self.flip_colors(h)\n",
    "        return h\n",
    "    def _move_red_right(self,h):\n",
    "        \"\"\"\n",
    "        Assuming that self is red and both self.right and self.right.left\n",
    "        are black, make self.right or one of its children red.\n",
    "        \"\"\"\n",
    "        self.flip_colors(h)\n",
    "        if h.L and self.is_red(h.L.L):\n",
    "            h = self.rotateR(h)\n",
    "            h = self.flip_colors(h)\n",
    "        return h\n",
    "\n",
    "    def _delete_min(self,h):\n",
    "        if h.L is None:\n",
    "            return None\n",
    "        if self.is_black(h.L) and h.L and self.is_black(h.L.L):\n",
    "            h = self._move_red_left(h)\n",
    "        h.L = self._delete_min(h.L)\n",
    "        return self._fix_up(h)\n",
    "    \n",
    "    def delete_min(self):\n",
    "        self.root = self._delete_min(self.root)\n",
    "        self.root.clr = BLACK\n",
    "    def _get_min_node(self,h):\n",
    "        return self._get_min_node(h.L) if h.L != None else h\n",
    "    def _delete(self,h,key):\n",
    "        if h == None:\n",
    "            print('Warning: key ',key,' not found, return None')\n",
    "            return None\n",
    "\n",
    "        if key < h.key:\n",
    "            if self.is_black(h.L) and self.L and self.is_black(h.L.L):\n",
    "                h = self._move_red_left(h)\n",
    "            h.L = h.L._delete(key)\n",
    "        else:\n",
    "            if self.is_red(h.L):\n",
    "                h = self._rotate_right(h)\n",
    "            if key == h.key and h.R is None:\n",
    "                return None\n",
    "            if self.is_black(h.R) and h.R and self.is_black(h.R.L):\n",
    "                h = self._move_red_right(h)\n",
    "            if key == h.key:                \n",
    "                min_node = self._get_min_node(h.R)\n",
    "                h.val = min_node.val\n",
    "                h.key = min_node.key\n",
    "\n",
    "                h.R = self._delete_min(h.R)\n",
    "            else:\n",
    "                h.R = self._delete(h.R,key)\n",
    "\n",
    "\n",
    "        return self._fix_up(h)\n",
    "    \n",
    "    def delete(self, key):\n",
    "        \"\"\"\n",
    "        Delete a node with the given key from the tree.\n",
    "        \"\"\"\n",
    "        if self.is_black(self.root.L) and self.is_black(self.root.R):\n",
    "            self.root.clr = RED\n",
    "\n",
    "        if self.root is not None:\n",
    "            self.root = self._delete(self.root,key)\n",
    "\n",
    "        if self.root != None:\n",
    "            self.root.clr = BLACK\n",
    "\n",
    "    \n",
    "    \n",
    "L = LLRB()\n",
    "L.put(ord('a'),'a')\n",
    "L.put(ord('b'),'b')\n",
    "L.put(ord('c'),'c')\n",
    "\n",
    "\n",
    "L.delete(ord('d'))"
   ]
  },
  {
   "cell_type": "code",
   "execution_count": 166,
   "metadata": {},
   "outputs": [
    {
     "data": {
      "text/plain": [
       "'c'"
      ]
     },
     "execution_count": 166,
     "metadata": {},
     "output_type": "execute_result"
    }
   ],
   "source": [
    "L.root.R.val"
   ]
  },
  {
   "cell_type": "code",
   "execution_count": 149,
   "metadata": {},
   "outputs": [
    {
     "data": {
      "text/plain": [
       "'b'"
      ]
     },
     "execution_count": 149,
     "metadata": {},
     "output_type": "execute_result"
    }
   ],
   "source": [
    "L.root.L.val\n"
   ]
  },
  {
   "cell_type": "code",
   "execution_count": 150,
   "metadata": {},
   "outputs": [
    {
     "data": {
      "text/plain": [
       "True"
      ]
     },
     "execution_count": 150,
     "metadata": {},
     "output_type": "execute_result"
    }
   ],
   "source": [
    "1 != 2"
   ]
  },
  {
   "cell_type": "code",
   "execution_count": 95,
   "metadata": {},
   "outputs": [
    {
     "name": "stdout",
     "output_type": "stream",
     "text": [
      "3\n",
      "4\n"
     ]
    }
   ],
   "source": [
    "class foo(object):\n",
    "    def __init__(self,k):\n",
    "        self.val = k\n",
    "    def bar(self,n):\n",
    "        n.val = 4\n",
    "\n",
    "a = foo(3)\n",
    "print(a.val)\n",
    "a.bar(a)\n",
    "print(a.val)"
   ]
  },
  {
   "cell_type": "code",
   "execution_count": 89,
   "metadata": {},
   "outputs": [
    {
     "name": "stdout",
     "output_type": "stream",
     "text": [
      "asdf\n"
     ]
    }
   ],
   "source": [
    "class LLRB(object):\n",
    "    def __init__(self,h=None):\n",
    "        self.root = h\n",
    "    def put(self,key):\n",
    "        print('asdf')\n",
    "L = LLRB(3)\n",
    "L.put(1)"
   ]
  },
  {
   "cell_type": "code",
   "execution_count": 23,
   "metadata": {},
   "outputs": [
    {
     "ename": "AttributeError",
     "evalue": "'NoneType' object has no attribute 'val'",
     "output_type": "error",
     "traceback": [
      "\u001b[1;31m---------------------------------------------------------------------------\u001b[0m",
      "\u001b[1;31mAttributeError\u001b[0m                            Traceback (most recent call last)",
      "\u001b[1;32m<ipython-input-23-ae51f65822f1>\u001b[0m in \u001b[0;36m<module>\u001b[1;34m\u001b[0m\n\u001b[1;32m----> 1\u001b[1;33m \u001b[0mL\u001b[0m\u001b[1;33m.\u001b[0m\u001b[0mroot\u001b[0m\u001b[1;33m.\u001b[0m\u001b[0mval\u001b[0m\u001b[1;33m\u001b[0m\u001b[1;33m\u001b[0m\u001b[0m\n\u001b[0m",
      "\u001b[1;31mAttributeError\u001b[0m: 'NoneType' object has no attribute 'val'"
     ]
    }
   ],
   "source": []
  },
  {
   "cell_type": "code",
   "execution_count": 15,
   "metadata": {},
   "outputs": [
    {
     "data": {
      "text/plain": [
       "110"
      ]
     },
     "execution_count": 15,
     "metadata": {},
     "output_type": "execute_result"
    }
   ],
   "source": [
    "ord('n')"
   ]
  }
 ],
 "metadata": {
  "kernelspec": {
   "display_name": "Python 3",
   "language": "python",
   "name": "python3"
  },
  "language_info": {
   "codemirror_mode": {
    "name": "ipython",
    "version": 3
   },
   "file_extension": ".py",
   "mimetype": "text/x-python",
   "name": "python",
   "nbconvert_exporter": "python",
   "pygments_lexer": "ipython3",
   "version": "3.7.6"
  }
 },
 "nbformat": 4,
 "nbformat_minor": 4
}
